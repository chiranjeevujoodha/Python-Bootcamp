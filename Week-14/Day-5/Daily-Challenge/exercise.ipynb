{
 "cells": [
  {
   "cell_type": "code",
   "execution_count": 6,
   "metadata": {},
   "outputs": [],
   "source": [
    "import random"
   ]
  },
  {
   "cell_type": "code",
   "execution_count": 13,
   "metadata": {},
   "outputs": [
    {
     "name": "stdout",
     "output_type": "stream",
     "text": [
      "[{'suit': 'Hearts', 'value': '10'}, {'suit': 'Spades', 'value': '7'}, {'suit': 'Spades', 'value': 'K'}, {'suit': 'Spades', 'value': '8'}, {'suit': 'Clubs', 'value': '7'}, {'suit': 'Diamonds', 'value': '4'}, {'suit': 'Spades', 'value': '6'}, {'suit': 'Diamonds', 'value': '5'}, {'suit': 'Hearts', 'value': '5'}, {'suit': 'Spades', 'value': '3'}, {'suit': 'Hearts', 'value': 'A'}, {'suit': 'Clubs', 'value': '3'}, {'suit': 'Spades', 'value': 'Q'}, {'suit': 'Clubs', 'value': '10'}, {'suit': 'Clubs', 'value': '8'}, {'suit': 'Hearts', 'value': '9'}, {'suit': 'Clubs', 'value': 'Q'}, {'suit': 'Diamonds', 'value': '10'}, {'suit': 'Clubs', 'value': '9'}, {'suit': 'Diamonds', 'value': '8'}, {'suit': 'Diamonds', 'value': '6'}, {'suit': 'Clubs', 'value': 'K'}, {'suit': 'Clubs', 'value': '4'}, {'suit': 'Diamonds', 'value': 'Q'}, {'suit': 'Diamonds', 'value': 'J'}, {'suit': 'Hearts', 'value': 'Q'}, {'suit': 'Spades', 'value': '2'}, {'suit': 'Hearts', 'value': '4'}, {'suit': 'Hearts', 'value': '6'}, {'suit': 'Diamonds', 'value': '3'}, {'suit': 'Clubs', 'value': '2'}, {'suit': 'Spades', 'value': 'A'}, {'suit': 'Hearts', 'value': '2'}, {'suit': 'Hearts', 'value': '7'}, {'suit': 'Spades', 'value': '5'}, {'suit': 'Clubs', 'value': 'A'}, {'suit': 'Diamonds', 'value': '7'}, {'suit': 'Diamonds', 'value': '2'}, {'suit': 'Hearts', 'value': '8'}, {'suit': 'Spades', 'value': 'J'}, {'suit': 'Spades', 'value': '10'}, {'suit': 'Spades', 'value': '4'}, {'suit': 'Diamonds', 'value': 'A'}, {'suit': 'Diamonds', 'value': '9'}, {'suit': 'Diamonds', 'value': 'K'}, {'suit': 'Hearts', 'value': '3'}, {'suit': 'Clubs', 'value': 'J'}, {'suit': 'Hearts', 'value': 'K'}, {'suit': 'Spades', 'value': '9'}, {'suit': 'Hearts', 'value': 'J'}, {'suit': 'Clubs', 'value': '5'}, {'suit': 'Clubs', 'value': '6'}]\n",
      "{'suit': 'Clubs', 'value': '6'}\n"
     ]
    }
   ],
   "source": [
    "suits = ['Hearts', 'Diamonds', 'Clubs', 'Spades']\n",
    "values = ['A','2','3','4','5','6','7','8','9','10','J','Q','K']\n",
    "\n",
    "deck = []\n",
    "\n",
    "def populate_deck():\n",
    "    for suit in suits:\n",
    "        for value in values:\n",
    "            card = {\n",
    "                'suit': suit,\n",
    "                'value': value\n",
    "            }\n",
    "            deck.append(card)\n",
    "\n",
    "def shuffle_deck():\n",
    "    random.shuffle(deck)\n",
    "    print(deck)\n",
    "\n",
    "def deal_card():\n",
    "    print(deck.pop())\n",
    "\n",
    "populate_deck()\n",
    "shuffle_deck()\n",
    "deal_card()\n"
   ]
  },
  {
   "cell_type": "code",
   "execution_count": null,
   "metadata": {},
   "outputs": [],
   "source": []
  }
 ],
 "metadata": {
  "kernelspec": {
   "display_name": "Python 3",
   "language": "python",
   "name": "python3"
  },
  "language_info": {
   "codemirror_mode": {
    "name": "ipython",
    "version": 3
   },
   "file_extension": ".py",
   "mimetype": "text/x-python",
   "name": "python",
   "nbconvert_exporter": "python",
   "pygments_lexer": "ipython3",
   "version": "3.11.5"
  }
 },
 "nbformat": 4,
 "nbformat_minor": 2
}
